{
 "cells": [
  {
   "cell_type": "code",
   "execution_count": 1,
   "id": "68fb7f02",
   "metadata": {},
   "outputs": [
    {
     "name": "stdout",
     "output_type": "stream",
     "text": [
      "\n",
      "#Sentence Tokenization\n",
      "['Hello Mr. Smith, how are you doing today?', 'The weather is great, and city is awesome.', 'The sky is pinkish-blue.', \"You shouldn't eat cardboard\"]\n",
      "\n",
      "#Word Tokenization\n",
      "['Hello', 'Mr.', 'Smith', ',', 'how', 'are', 'you', 'doing', 'today', '?', 'The', 'weather', 'is', 'great', ',', 'and', 'city', 'is', 'awesome', '.', 'The', 'sky', 'is', 'pinkish-blue', '.', 'You', 'should', \"n't\", 'eat', 'cardboard']\n",
      "\n",
      "#Removing Stopwords\n",
      "Tokenized Sentence: ['Hello', 'Mr.', 'Smith', ',', 'how', 'are', 'you', 'doing', 'today', '?', 'The', 'weather', 'is', 'great', ',', 'and', 'city', 'is', 'awesome', '.', 'The', 'sky', 'is', 'pinkish-blue', '.', 'You', 'should', \"n't\", 'eat', 'cardboard']\n",
      "\n",
      "Filterd Sentence: ['Hello', 'Mr.', 'Smith', ',', 'today', '?', 'The', 'weather', 'great', ',', 'city', 'awesome', '.', 'The', 'sky', 'pinkish-blue', '.', 'You', \"n't\", 'eat', 'cardboard']\n",
      "\n",
      "Stemmed Sentence: ['hello', 'mr.', 'smith', ',', 'how', 'are', 'you', 'do', 'today', '?', 'the', 'weather', 'is', 'great', ',', 'and', 'citi', 'is', 'awesom', '.', 'the', 'sky', 'is', 'pinkish-blu', '.', 'you', 'should', \"n't\", 'eat', 'cardboard']\n",
      "\n",
      "Lemmatized Sentence: ['Hello', 'Mr.', 'Smith', ',', 'how', 'are', 'you', 'doing', 'today', '?', 'The', 'weather', 'is', 'great', ',', 'and', 'city', 'is', 'awesome', '.', 'The', 'sky', 'is', 'pinkish-blue', '.', 'You', 'should', \"n't\", 'eat', 'cardboard']\n",
      "\n",
      "POS Tagging: [('Albert', 'NNP'), ('Einstein', 'NNP'), ('was', 'VBD'), ('born', 'VBN'), ('in', 'IN'), ('Ulm', 'NNP'), (',', ','), ('Germany', 'NNP'), ('in', 'IN'), ('1879', 'CD'), ('.', '.')]\n"
     ]
    }
   ],
   "source": [
    "import nltk\n",
    "from nltk.tokenize import sent_tokenize\n",
    "from nltk.tokenize import word_tokenize\n",
    "from nltk.corpus import stopwords\n",
    "from nltk.stem import PorterStemmer\n",
    "from nltk.stem.wordnet import WordNetLemmatizer\n",
    "\n",
    "text=\"\"\"Hello Mr. Smith, how are you doing today? The weather is great, and city is awesome.\n",
    "The sky is pinkish-blue. You shouldn't eat cardboard\"\"\"\n",
    "\n",
    "#Sentence Tokenization\n",
    "tokenized_text=sent_tokenize(text)\n",
    "print(\"\\n#Sentence Tokenization\")\n",
    "print(tokenized_text)\n",
    "\n",
    "\n",
    "#Word Tokenization\n",
    "tokenized_word=word_tokenize(text)\n",
    "print(\"\\n#Word Tokenization\")\n",
    "print(tokenized_word)\n",
    "\n",
    "\n",
    "#Removing Stopwords\n",
    "print(\"\\n#Removing Stopwords\")\n",
    "stop_words=set(stopwords.words(\"english\"))\n",
    "filtered_sent=[]\n",
    "for w in tokenized_word:\n",
    "    if w not in stop_words:\n",
    "        filtered_sent.append(w)\n",
    "print(\"Tokenized Sentence:\",tokenized_word)\n",
    "print(\"\\nFilterd Sentence:\",filtered_sent)\n",
    "\n",
    "\n",
    "#Stemming\n",
    "ps =PorterStemmer()\n",
    "stemmed_words=[]\n",
    "for w in tokenized_word:\n",
    "    stemmed_words.append(ps.stem(w))\n",
    "print(\"\\nStemmed Sentence:\",stemmed_words)\n",
    "\n",
    "#Lemmatization\n",
    "lemmed_words = []\n",
    "lem = WordNetLemmatizer()\n",
    "for w in tokenized_word:\n",
    "    lemmed_words.append(lem.lemmatize(w))\n",
    "print(\"\\nLemmatized Sentence:\",lemmed_words)\n",
    "\n",
    "#POS Tagging\n",
    "sent = \"Albert Einstein was born in Ulm, Germany in 1879.\"\n",
    "tokens=nltk.word_tokenize(sent)\n",
    "pos_tagging = nltk.pos_tag(tokens)\n",
    "print(\"\\nPOS Tagging:\",pos_tagging)"
   ]
  },
  {
   "cell_type": "code",
   "execution_count": null,
   "id": "36609c4e",
   "metadata": {},
   "outputs": [],
   "source": []
  }
 ],
 "metadata": {
  "kernelspec": {
   "display_name": "Python 3 (ipykernel)",
   "language": "python",
   "name": "python3"
  },
  "language_info": {
   "codemirror_mode": {
    "name": "ipython",
    "version": 3
   },
   "file_extension": ".py",
   "mimetype": "text/x-python",
   "name": "python",
   "nbconvert_exporter": "python",
   "pygments_lexer": "ipython3",
   "version": "3.10.2"
  }
 },
 "nbformat": 4,
 "nbformat_minor": 5
}
