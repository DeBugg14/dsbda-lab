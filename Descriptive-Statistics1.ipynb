{
 "cells": [
  {
   "cell_type": "code",
   "execution_count": 19,
   "id": "6e29942e",
   "metadata": {},
   "outputs": [],
   "source": [
    "import pandas as pd"
   ]
  },
  {
   "cell_type": "code",
   "execution_count": 20,
   "id": "f985f259",
   "metadata": {},
   "outputs": [],
   "source": [
    "url_link = 'https://raw.githubusercontent.com/DeBugg14/te-sppu-lab/main/Data-Science/Prac3/wages.csv'\n",
    "df = pd.read_csv(url_link)"
   ]
  },
  {
   "cell_type": "code",
   "execution_count": 21,
   "id": "732d9c15",
   "metadata": {},
   "outputs": [
    {
     "data": {
      "text/plain": [
       "(1379, 6)"
      ]
     },
     "execution_count": 21,
     "metadata": {},
     "output_type": "execute_result"
    }
   ],
   "source": [
    "df.shape"
   ]
  },
  {
   "cell_type": "code",
   "execution_count": 22,
   "id": "e2c15872",
   "metadata": {},
   "outputs": [
    {
     "data": {
      "text/plain": [
       "earn     -98.580489\n",
       "height        57.34\n",
       "sex          female\n",
       "race          black\n",
       "ed                3\n",
       "age              22\n",
       "dtype: object"
      ]
     },
     "execution_count": 22,
     "metadata": {},
     "output_type": "execute_result"
    }
   ],
   "source": [
    "df.min()"
   ]
  },
  {
   "cell_type": "code",
   "execution_count": 23,
   "id": "21842b10",
   "metadata": {},
   "outputs": [
    {
     "data": {
      "text/plain": [
       "earn      317949.127955\n",
       "height            77.21\n",
       "sex                male\n",
       "race              white\n",
       "ed                   18\n",
       "age                  95\n",
       "dtype: object"
      ]
     },
     "execution_count": 23,
     "metadata": {},
     "output_type": "execute_result"
    }
   ],
   "source": [
    "df.max()"
   ]
  },
  {
   "cell_type": "code",
   "execution_count": 26,
   "id": "2db4f145",
   "metadata": {},
   "outputs": [
    {
     "data": {
      "text/plain": [
       "0    36\n",
       "Name: age, dtype: int64"
      ]
     },
     "execution_count": 26,
     "metadata": {},
     "output_type": "execute_result"
    }
   ],
   "source": [
    "df['age'].mode()"
   ]
  },
  {
   "cell_type": "code",
   "execution_count": 25,
   "id": "63165071",
   "metadata": {},
   "outputs": [
    {
     "data": {
      "text/plain": [
       "42.0"
      ]
     },
     "execution_count": 25,
     "metadata": {},
     "output_type": "execute_result"
    }
   ],
   "source": [
    "df['age'].median()"
   ]
  },
  {
   "cell_type": "code",
   "execution_count": 27,
   "id": "7cba8c29",
   "metadata": {},
   "outputs": [
    {
     "data": {
      "text/plain": [
       "15.789714597720446"
      ]
     },
     "execution_count": 27,
     "metadata": {},
     "output_type": "execute_result"
    }
   ],
   "source": [
    "df['age'].std()"
   ]
  },
  {
   "cell_type": "code",
   "execution_count": 35,
   "id": "edca0c25",
   "metadata": {},
   "outputs": [
    {
     "name": "stdout",
     "output_type": "stream",
     "text": [
      "45.33\n",
      "32446.29\n",
      "66.59\n",
      "13.35\n"
     ]
    }
   ],
   "source": [
    "\n",
    "for col in ['age','earn','height','ed']:\n",
    "    print(round(df[col].mean(),2))\n"
   ]
  },
  {
   "cell_type": "code",
   "execution_count": 30,
   "id": "3716b695",
   "metadata": {},
   "outputs": [
    {
     "data": {
      "text/html": [
       "<div>\n",
       "<style scoped>\n",
       "    .dataframe tbody tr th:only-of-type {\n",
       "        vertical-align: middle;\n",
       "    }\n",
       "\n",
       "    .dataframe tbody tr th {\n",
       "        vertical-align: top;\n",
       "    }\n",
       "\n",
       "    .dataframe thead th {\n",
       "        text-align: right;\n",
       "    }\n",
       "</style>\n",
       "<table border=\"1\" class=\"dataframe\">\n",
       "  <thead>\n",
       "    <tr style=\"text-align: right;\">\n",
       "      <th></th>\n",
       "      <th>count</th>\n",
       "      <th>mean</th>\n",
       "      <th>std</th>\n",
       "      <th>min</th>\n",
       "      <th>25%</th>\n",
       "      <th>50%</th>\n",
       "      <th>75%</th>\n",
       "      <th>max</th>\n",
       "    </tr>\n",
       "    <tr>\n",
       "      <th>ed</th>\n",
       "      <th></th>\n",
       "      <th></th>\n",
       "      <th></th>\n",
       "      <th></th>\n",
       "      <th></th>\n",
       "      <th></th>\n",
       "      <th></th>\n",
       "      <th></th>\n",
       "    </tr>\n",
       "  </thead>\n",
       "  <tbody>\n",
       "    <tr>\n",
       "      <th>3</th>\n",
       "      <td>1.0</td>\n",
       "      <td>68.000000</td>\n",
       "      <td>NaN</td>\n",
       "      <td>68.0</td>\n",
       "      <td>68.00</td>\n",
       "      <td>68.0</td>\n",
       "      <td>68.00</td>\n",
       "      <td>68.0</td>\n",
       "    </tr>\n",
       "    <tr>\n",
       "      <th>4</th>\n",
       "      <td>2.0</td>\n",
       "      <td>67.000000</td>\n",
       "      <td>1.414214</td>\n",
       "      <td>66.0</td>\n",
       "      <td>66.50</td>\n",
       "      <td>67.0</td>\n",
       "      <td>67.50</td>\n",
       "      <td>68.0</td>\n",
       "    </tr>\n",
       "    <tr>\n",
       "      <th>5</th>\n",
       "      <td>5.0</td>\n",
       "      <td>69.800000</td>\n",
       "      <td>13.367872</td>\n",
       "      <td>55.0</td>\n",
       "      <td>62.00</td>\n",
       "      <td>66.0</td>\n",
       "      <td>77.00</td>\n",
       "      <td>89.0</td>\n",
       "    </tr>\n",
       "    <tr>\n",
       "      <th>6</th>\n",
       "      <td>7.0</td>\n",
       "      <td>67.571429</td>\n",
       "      <td>11.443443</td>\n",
       "      <td>44.0</td>\n",
       "      <td>66.00</td>\n",
       "      <td>71.0</td>\n",
       "      <td>73.50</td>\n",
       "      <td>79.0</td>\n",
       "    </tr>\n",
       "    <tr>\n",
       "      <th>7</th>\n",
       "      <td>3.0</td>\n",
       "      <td>53.000000</td>\n",
       "      <td>8.000000</td>\n",
       "      <td>45.0</td>\n",
       "      <td>49.00</td>\n",
       "      <td>53.0</td>\n",
       "      <td>57.00</td>\n",
       "      <td>61.0</td>\n",
       "    </tr>\n",
       "    <tr>\n",
       "      <th>8</th>\n",
       "      <td>28.0</td>\n",
       "      <td>57.071429</td>\n",
       "      <td>17.090020</td>\n",
       "      <td>24.0</td>\n",
       "      <td>46.00</td>\n",
       "      <td>60.0</td>\n",
       "      <td>68.50</td>\n",
       "      <td>87.0</td>\n",
       "    </tr>\n",
       "    <tr>\n",
       "      <th>9</th>\n",
       "      <td>23.0</td>\n",
       "      <td>53.782609</td>\n",
       "      <td>17.929043</td>\n",
       "      <td>25.0</td>\n",
       "      <td>46.00</td>\n",
       "      <td>55.0</td>\n",
       "      <td>65.50</td>\n",
       "      <td>88.0</td>\n",
       "    </tr>\n",
       "    <tr>\n",
       "      <th>10</th>\n",
       "      <td>37.0</td>\n",
       "      <td>52.459459</td>\n",
       "      <td>21.595517</td>\n",
       "      <td>22.0</td>\n",
       "      <td>35.00</td>\n",
       "      <td>52.0</td>\n",
       "      <td>72.00</td>\n",
       "      <td>91.0</td>\n",
       "    </tr>\n",
       "    <tr>\n",
       "      <th>11</th>\n",
       "      <td>39.0</td>\n",
       "      <td>46.333333</td>\n",
       "      <td>15.863452</td>\n",
       "      <td>22.0</td>\n",
       "      <td>34.00</td>\n",
       "      <td>42.0</td>\n",
       "      <td>56.50</td>\n",
       "      <td>76.0</td>\n",
       "    </tr>\n",
       "    <tr>\n",
       "      <th>12</th>\n",
       "      <td>520.0</td>\n",
       "      <td>44.644231</td>\n",
       "      <td>15.938900</td>\n",
       "      <td>22.0</td>\n",
       "      <td>32.00</td>\n",
       "      <td>41.0</td>\n",
       "      <td>55.00</td>\n",
       "      <td>95.0</td>\n",
       "    </tr>\n",
       "    <tr>\n",
       "      <th>13</th>\n",
       "      <td>119.0</td>\n",
       "      <td>44.403361</td>\n",
       "      <td>16.024515</td>\n",
       "      <td>22.0</td>\n",
       "      <td>32.00</td>\n",
       "      <td>41.0</td>\n",
       "      <td>52.00</td>\n",
       "      <td>87.0</td>\n",
       "    </tr>\n",
       "    <tr>\n",
       "      <th>14</th>\n",
       "      <td>192.0</td>\n",
       "      <td>44.197917</td>\n",
       "      <td>15.370550</td>\n",
       "      <td>22.0</td>\n",
       "      <td>32.00</td>\n",
       "      <td>41.0</td>\n",
       "      <td>54.25</td>\n",
       "      <td>85.0</td>\n",
       "    </tr>\n",
       "    <tr>\n",
       "      <th>15</th>\n",
       "      <td>66.0</td>\n",
       "      <td>43.515152</td>\n",
       "      <td>16.020412</td>\n",
       "      <td>24.0</td>\n",
       "      <td>30.00</td>\n",
       "      <td>42.0</td>\n",
       "      <td>51.75</td>\n",
       "      <td>87.0</td>\n",
       "    </tr>\n",
       "    <tr>\n",
       "      <th>16</th>\n",
       "      <td>187.0</td>\n",
       "      <td>42.229947</td>\n",
       "      <td>13.778804</td>\n",
       "      <td>23.0</td>\n",
       "      <td>33.00</td>\n",
       "      <td>38.0</td>\n",
       "      <td>47.00</td>\n",
       "      <td>95.0</td>\n",
       "    </tr>\n",
       "    <tr>\n",
       "      <th>17</th>\n",
       "      <td>70.0</td>\n",
       "      <td>43.571429</td>\n",
       "      <td>11.917070</td>\n",
       "      <td>27.0</td>\n",
       "      <td>34.25</td>\n",
       "      <td>43.0</td>\n",
       "      <td>47.00</td>\n",
       "      <td>83.0</td>\n",
       "    </tr>\n",
       "    <tr>\n",
       "      <th>18</th>\n",
       "      <td>80.0</td>\n",
       "      <td>49.225000</td>\n",
       "      <td>12.323668</td>\n",
       "      <td>29.0</td>\n",
       "      <td>40.75</td>\n",
       "      <td>48.0</td>\n",
       "      <td>56.25</td>\n",
       "      <td>86.0</td>\n",
       "    </tr>\n",
       "  </tbody>\n",
       "</table>\n",
       "</div>"
      ],
      "text/plain": [
       "    count       mean        std   min    25%   50%    75%   max\n",
       "ed                                                             \n",
       "3     1.0  68.000000        NaN  68.0  68.00  68.0  68.00  68.0\n",
       "4     2.0  67.000000   1.414214  66.0  66.50  67.0  67.50  68.0\n",
       "5     5.0  69.800000  13.367872  55.0  62.00  66.0  77.00  89.0\n",
       "6     7.0  67.571429  11.443443  44.0  66.00  71.0  73.50  79.0\n",
       "7     3.0  53.000000   8.000000  45.0  49.00  53.0  57.00  61.0\n",
       "8    28.0  57.071429  17.090020  24.0  46.00  60.0  68.50  87.0\n",
       "9    23.0  53.782609  17.929043  25.0  46.00  55.0  65.50  88.0\n",
       "10   37.0  52.459459  21.595517  22.0  35.00  52.0  72.00  91.0\n",
       "11   39.0  46.333333  15.863452  22.0  34.00  42.0  56.50  76.0\n",
       "12  520.0  44.644231  15.938900  22.0  32.00  41.0  55.00  95.0\n",
       "13  119.0  44.403361  16.024515  22.0  32.00  41.0  52.00  87.0\n",
       "14  192.0  44.197917  15.370550  22.0  32.00  41.0  54.25  85.0\n",
       "15   66.0  43.515152  16.020412  24.0  30.00  42.0  51.75  87.0\n",
       "16  187.0  42.229947  13.778804  23.0  33.00  38.0  47.00  95.0\n",
       "17   70.0  43.571429  11.917070  27.0  34.25  43.0  47.00  83.0\n",
       "18   80.0  49.225000  12.323668  29.0  40.75  48.0  56.25  86.0"
      ]
     },
     "execution_count": 30,
     "metadata": {},
     "output_type": "execute_result"
    }
   ],
   "source": [
    "df['age'].groupby(df['ed']).describe() #groupby"
   ]
  },
  {
   "cell_type": "code",
   "execution_count": null,
   "id": "36c377de",
   "metadata": {},
   "outputs": [],
   "source": []
  }
 ],
 "metadata": {
  "kernelspec": {
   "display_name": "Python 3 (ipykernel)",
   "language": "python",
   "name": "python3"
  },
  "language_info": {
   "codemirror_mode": {
    "name": "ipython",
    "version": 3
   },
   "file_extension": ".py",
   "mimetype": "text/x-python",
   "name": "python",
   "nbconvert_exporter": "python",
   "pygments_lexer": "ipython3",
   "version": "3.10.2"
  }
 },
 "nbformat": 4,
 "nbformat_minor": 5
}
