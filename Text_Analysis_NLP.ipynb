{
  "nbformat": 4,
  "nbformat_minor": 0,
  "metadata": {
    "colab": {
      "name": "Text Analysis NLP.ipynb",
      "provenance": []
    },
    "kernelspec": {
      "name": "python3",
      "display_name": "Python 3"
    },
    "language_info": {
      "name": "python"
    }
  },
  "cells": [
    {
      "cell_type": "code",
      "execution_count": null,
      "metadata": {
        "id": "pEvYyFaUR8AZ"
      },
      "outputs": [],
      "source": [
        "import numpy as np\n",
        "import pandas as pd"
      ]
    },
    {
      "cell_type": "code",
      "source": [
        "text = 'Years after a rebellion spurred by a stolen bride to be and the blind ambitions of a mad King, Robert of the house Baratheon (Mark Addy) sits on the much desired Iron Throne. In the mythical land of Westeros, nine noble families fight for every inch of control and every drop of power.'"
      ],
      "metadata": {
        "id": "XkmJudqFSBn9"
      },
      "execution_count": null,
      "outputs": []
    },
    {
      "cell_type": "code",
      "source": [
        "import nltk\n",
        "from nltk import word_tokenize, sent_tokenize\n",
        "nltk.download('punkt')"
      ],
      "metadata": {
        "colab": {
          "base_uri": "https://localhost:8080/"
        },
        "id": "fyxdLyplSM_Y",
        "outputId": "42294fa3-d387-4a50-f3dc-e08215450b48"
      },
      "execution_count": null,
      "outputs": [
        {
          "output_type": "stream",
          "name": "stdout",
          "text": [
            "[nltk_data] Downloading package punkt to /root/nltk_data...\n",
            "[nltk_data]   Unzipping tokenizers/punkt.zip.\n"
          ]
        },
        {
          "output_type": "execute_result",
          "data": {
            "text/plain": [
              "True"
            ]
          },
          "metadata": {},
          "execution_count": 6
        }
      ]
    },
    {
      "cell_type": "code",
      "source": [
        "word_tokens = word_tokenize(text)\n",
        "word_tokens "
      ],
      "metadata": {
        "id": "gRNlIQn4SR28"
      },
      "execution_count": null,
      "outputs": []
    },
    {
      "cell_type": "code",
      "source": [
        "sentence_tokens = sent_tokenize(text)\n",
        "sentence_tokens"
      ],
      "metadata": {
        "colab": {
          "base_uri": "https://localhost:8080/"
        },
        "id": "kQ40BgBCSjOg",
        "outputId": "6d1ff02f-0569-4527-9195-5921bcdf3b35"
      },
      "execution_count": null,
      "outputs": [
        {
          "output_type": "execute_result",
          "data": {
            "text/plain": [
              "['Years after a rebellion spurred by a stolen bride to be and the blind ambitions of a mad King, Robert of the house Baratheon (Mark Addy) sits on the much desired Iron Throne.',\n",
              " 'In the mythical land of Westeros, nine noble families fight for every inch of control and every drop of power.']"
            ]
          },
          "metadata": {},
          "execution_count": 11
        }
      ]
    },
    {
      "cell_type": "markdown",
      "source": [
        "### POS Tagging"
      ],
      "metadata": {
        "id": "hzxN2UqSTEIY"
      }
    },
    {
      "cell_type": "code",
      "source": [
        "nltk.download('averaged_perceptron_tagger')"
      ],
      "metadata": {
        "colab": {
          "base_uri": "https://localhost:8080/"
        },
        "id": "bSBXKO__TXtZ",
        "outputId": "e1214d0c-f1c7-421b-ce68-9580f11191ce"
      },
      "execution_count": null,
      "outputs": [
        {
          "output_type": "stream",
          "name": "stdout",
          "text": [
            "[nltk_data] Downloading package averaged_perceptron_tagger to\n",
            "[nltk_data]     /root/nltk_data...\n",
            "[nltk_data]   Unzipping taggers/averaged_perceptron_tagger.zip.\n"
          ]
        },
        {
          "output_type": "execute_result",
          "data": {
            "text/plain": [
              "True"
            ]
          },
          "metadata": {},
          "execution_count": 10
        }
      ]
    },
    {
      "cell_type": "code",
      "source": [
        "tag_words = nltk.pos_tag(word_tokens)\n",
        "tag_words"
      ],
      "metadata": {
        "colab": {
          "base_uri": "https://localhost:8080/"
        },
        "id": "K6lU18IiS7mL",
        "outputId": "07e6cb34-6f3e-4601-d980-a7c8471f1563"
      },
      "execution_count": null,
      "outputs": [
        {
          "output_type": "execute_result",
          "data": {
            "text/plain": [
              "[('Years', 'NNS'),\n",
              " ('after', 'IN'),\n",
              " ('a', 'DT'),\n",
              " ('rebellion', 'NN'),\n",
              " ('spurred', 'VBN'),\n",
              " ('by', 'IN'),\n",
              " ('a', 'DT'),\n",
              " ('stolen', 'VBN'),\n",
              " ('bride', 'NN'),\n",
              " ('to', 'TO'),\n",
              " ('be', 'VB'),\n",
              " ('and', 'CC'),\n",
              " ('the', 'DT'),\n",
              " ('blind', 'JJ'),\n",
              " ('ambitions', 'NNS'),\n",
              " ('of', 'IN'),\n",
              " ('a', 'DT'),\n",
              " ('mad', 'JJ'),\n",
              " ('King', 'NNP'),\n",
              " (',', ','),\n",
              " ('Robert', 'NNP'),\n",
              " ('of', 'IN'),\n",
              " ('the', 'DT'),\n",
              " ('house', 'NN'),\n",
              " ('Baratheon', 'NNP'),\n",
              " ('(', '('),\n",
              " ('Mark', 'NNP'),\n",
              " ('Addy', 'NNP'),\n",
              " (')', ')'),\n",
              " ('sits', 'VBZ'),\n",
              " ('on', 'IN'),\n",
              " ('the', 'DT'),\n",
              " ('much', 'RB'),\n",
              " ('desired', 'VBN'),\n",
              " ('Iron', 'NNP'),\n",
              " ('Throne', 'NNP'),\n",
              " ('.', '.'),\n",
              " ('In', 'IN'),\n",
              " ('the', 'DT'),\n",
              " ('mythical', 'JJ'),\n",
              " ('land', 'NN'),\n",
              " ('of', 'IN'),\n",
              " ('Westeros', 'NNP'),\n",
              " (',', ','),\n",
              " ('nine', 'CD'),\n",
              " ('noble', 'JJ'),\n",
              " ('families', 'NNS'),\n",
              " ('fight', 'VBP'),\n",
              " ('for', 'IN'),\n",
              " ('every', 'DT'),\n",
              " ('inch', 'NN'),\n",
              " ('of', 'IN'),\n",
              " ('control', 'NN'),\n",
              " ('and', 'CC'),\n",
              " ('every', 'DT'),\n",
              " ('drop', 'NN'),\n",
              " ('of', 'IN'),\n",
              " ('power', 'NN'),\n",
              " ('.', '.')]"
            ]
          },
          "metadata": {},
          "execution_count": 12
        }
      ]
    },
    {
      "cell_type": "markdown",
      "source": [
        "### Stop Words Removal"
      ],
      "metadata": {
        "id": "FHlaFOpyTiWw"
      }
    },
    {
      "cell_type": "code",
      "source": [
        "nltk.download('stopwords')"
      ],
      "metadata": {
        "colab": {
          "base_uri": "https://localhost:8080/"
        },
        "id": "jeksWW6QUCfU",
        "outputId": "c959d795-f25b-4201-b07d-02decaf55d3f"
      },
      "execution_count": null,
      "outputs": [
        {
          "output_type": "stream",
          "name": "stdout",
          "text": [
            "[nltk_data] Downloading package stopwords to /root/nltk_data...\n",
            "[nltk_data]   Unzipping corpora/stopwords.zip.\n"
          ]
        },
        {
          "output_type": "execute_result",
          "data": {
            "text/plain": [
              "True"
            ]
          },
          "metadata": {},
          "execution_count": 15
        }
      ]
    },
    {
      "cell_type": "code",
      "source": [
        "from nltk.corpus import stopwords"
      ],
      "metadata": {
        "id": "d4CWXIwVTUPs"
      },
      "execution_count": null,
      "outputs": []
    },
    {
      "cell_type": "code",
      "source": [
        "stop_words = set(stopwords.words('english'))"
      ],
      "metadata": {
        "id": "9-a-1BxUTxAm"
      },
      "execution_count": null,
      "outputs": []
    },
    {
      "cell_type": "code",
      "source": [
        "cleaned_text = [x for x in word_tokens if x not in stop_words]\n",
        "cleaned_text"
      ],
      "metadata": {
        "colab": {
          "base_uri": "https://localhost:8080/"
        },
        "id": "rx2l8cegT_af",
        "outputId": "6e58c7b8-72d8-49cf-f30d-24eb43646f77"
      },
      "execution_count": null,
      "outputs": [
        {
          "output_type": "execute_result",
          "data": {
            "text/plain": [
              "['Years',\n",
              " 'rebellion',\n",
              " 'spurred',\n",
              " 'stolen',\n",
              " 'bride',\n",
              " 'blind',\n",
              " 'ambitions',\n",
              " 'mad',\n",
              " 'King',\n",
              " ',',\n",
              " 'Robert',\n",
              " 'house',\n",
              " 'Baratheon',\n",
              " '(',\n",
              " 'Mark',\n",
              " 'Addy',\n",
              " ')',\n",
              " 'sits',\n",
              " 'much',\n",
              " 'desired',\n",
              " 'Iron',\n",
              " 'Throne',\n",
              " '.',\n",
              " 'In',\n",
              " 'mythical',\n",
              " 'land',\n",
              " 'Westeros',\n",
              " ',',\n",
              " 'nine',\n",
              " 'noble',\n",
              " 'families',\n",
              " 'fight',\n",
              " 'every',\n",
              " 'inch',\n",
              " 'control',\n",
              " 'every',\n",
              " 'drop',\n",
              " 'power',\n",
              " '.']"
            ]
          },
          "metadata": {},
          "execution_count": 20
        }
      ]
    },
    {
      "cell_type": "markdown",
      "source": [
        "### Stemming"
      ],
      "metadata": {
        "id": "gVnkPG_EUvwH"
      }
    },
    {
      "cell_type": "code",
      "source": [
        "from nltk.stem import PorterStemmer\n",
        "porter_stem = PorterStemmer()"
      ],
      "metadata": {
        "id": "J_4B_tEcUa47"
      },
      "execution_count": null,
      "outputs": []
    },
    {
      "cell_type": "code",
      "source": [
        "for w in cleaned_text:\n",
        "  print(w, ' : ', porter_stem.stem(w))"
      ],
      "metadata": {
        "colab": {
          "base_uri": "https://localhost:8080/"
        },
        "id": "CJowyF4pVGuU",
        "outputId": "2024aba6-09f8-4248-ee5e-e22f2a817d55"
      },
      "execution_count": null,
      "outputs": [
        {
          "output_type": "stream",
          "name": "stdout",
          "text": [
            "Years  :  year\n",
            "rebellion  :  rebellion\n",
            "spurred  :  spur\n",
            "stolen  :  stolen\n",
            "bride  :  bride\n",
            "blind  :  blind\n",
            "ambitions  :  ambit\n",
            "mad  :  mad\n",
            "King  :  king\n",
            ",  :  ,\n",
            "Robert  :  robert\n",
            "house  :  hous\n",
            "Baratheon  :  baratheon\n",
            "(  :  (\n",
            "Mark  :  mark\n",
            "Addy  :  addi\n",
            ")  :  )\n",
            "sits  :  sit\n",
            "much  :  much\n",
            "desired  :  desir\n",
            "Iron  :  iron\n",
            "Throne  :  throne\n",
            ".  :  .\n",
            "In  :  In\n",
            "mythical  :  mythic\n",
            "land  :  land\n",
            "Westeros  :  westero\n",
            ",  :  ,\n",
            "nine  :  nine\n",
            "noble  :  nobl\n",
            "families  :  famili\n",
            "fight  :  fight\n",
            "every  :  everi\n",
            "inch  :  inch\n",
            "control  :  control\n",
            "every  :  everi\n",
            "drop  :  drop\n",
            "power  :  power\n",
            ".  :  .\n"
          ]
        }
      ]
    },
    {
      "cell_type": "code",
      "source": [
        "tokens = [porter_stem.stem(w) for w in word_tokens]"
      ],
      "metadata": {
        "id": "W1l1qUXVVWii"
      },
      "execution_count": null,
      "outputs": []
    },
    {
      "cell_type": "code",
      "source": [
        "tokens"
      ],
      "metadata": {
        "colab": {
          "base_uri": "https://localhost:8080/"
        },
        "id": "63dMfbcFVwxJ",
        "outputId": "2632c69d-80d6-4cf3-fa48-2774c6707b77"
      },
      "execution_count": null,
      "outputs": [
        {
          "output_type": "execute_result",
          "data": {
            "text/plain": [
              "['year',\n",
              " 'after',\n",
              " 'a',\n",
              " 'rebellion',\n",
              " 'spur',\n",
              " 'by',\n",
              " 'a',\n",
              " 'stolen',\n",
              " 'bride',\n",
              " 'to',\n",
              " 'be',\n",
              " 'and',\n",
              " 'the',\n",
              " 'blind',\n",
              " 'ambit',\n",
              " 'of',\n",
              " 'a',\n",
              " 'mad',\n",
              " 'king',\n",
              " ',',\n",
              " 'robert',\n",
              " 'of',\n",
              " 'the',\n",
              " 'hous',\n",
              " 'baratheon',\n",
              " '(',\n",
              " 'mark',\n",
              " 'addi',\n",
              " ')',\n",
              " 'sit',\n",
              " 'on',\n",
              " 'the',\n",
              " 'much',\n",
              " 'desir',\n",
              " 'iron',\n",
              " 'throne',\n",
              " '.',\n",
              " 'In',\n",
              " 'the',\n",
              " 'mythic',\n",
              " 'land',\n",
              " 'of',\n",
              " 'westero',\n",
              " ',',\n",
              " 'nine',\n",
              " 'nobl',\n",
              " 'famili',\n",
              " 'fight',\n",
              " 'for',\n",
              " 'everi',\n",
              " 'inch',\n",
              " 'of',\n",
              " 'control',\n",
              " 'and',\n",
              " 'everi',\n",
              " 'drop',\n",
              " 'of',\n",
              " 'power',\n",
              " '.']"
            ]
          },
          "metadata": {},
          "execution_count": 24
        }
      ]
    },
    {
      "cell_type": "markdown",
      "source": [
        "### Lemmatization"
      ],
      "metadata": {
        "id": "kTQQHg_7VamD"
      }
    },
    {
      "cell_type": "code",
      "source": [
        "nltk.download('wordnet')"
      ],
      "metadata": {
        "colab": {
          "base_uri": "https://localhost:8080/"
        },
        "id": "2TTxqaBeVxuV",
        "outputId": "ac1231e8-865c-4624-f985-81a2510ed5c3"
      },
      "execution_count": null,
      "outputs": [
        {
          "output_type": "stream",
          "name": "stdout",
          "text": [
            "[nltk_data] Downloading package wordnet to /root/nltk_data...\n",
            "[nltk_data]   Unzipping corpora/wordnet.zip.\n"
          ]
        },
        {
          "output_type": "execute_result",
          "data": {
            "text/plain": [
              "True"
            ]
          },
          "metadata": {},
          "execution_count": 25
        }
      ]
    },
    {
      "cell_type": "code",
      "source": [
        "from nltk.stem import WordNetLemmatizer\n",
        "lemma = WordNetLemmatizer()"
      ],
      "metadata": {
        "id": "OCSF1AQOV_Tx"
      },
      "execution_count": null,
      "outputs": []
    },
    {
      "cell_type": "code",
      "source": [
        "lemma.lemmatize('rebellion')"
      ],
      "metadata": {
        "colab": {
          "base_uri": "https://localhost:8080/",
          "height": 35
        },
        "id": "gP15NL1JWKGy",
        "outputId": "5b1a423c-2005-49a8-e4ee-14acf25c1b2a"
      },
      "execution_count": null,
      "outputs": [
        {
          "output_type": "execute_result",
          "data": {
            "text/plain": [
              "'rebellion'"
            ],
            "application/vnd.google.colaboratory.intrinsic+json": {
              "type": "string"
            }
          },
          "metadata": {},
          "execution_count": 27
        }
      ]
    },
    {
      "cell_type": "code",
      "source": [
        "lemma.lemmatize('thrones')"
      ],
      "metadata": {
        "colab": {
          "base_uri": "https://localhost:8080/",
          "height": 35
        },
        "id": "Dbc3hc4dWQBp",
        "outputId": "cfce71da-3a6c-4ea8-e971-a4b5dc84ace7"
      },
      "execution_count": null,
      "outputs": [
        {
          "output_type": "execute_result",
          "data": {
            "text/plain": [
              "'throne'"
            ],
            "application/vnd.google.colaboratory.intrinsic+json": {
              "type": "string"
            }
          },
          "metadata": {},
          "execution_count": 28
        }
      ]
    },
    {
      "cell_type": "markdown",
      "source": [
        "### Term Frequency"
      ],
      "metadata": {
        "id": "F8_8BPIpWfJ3"
      }
    },
    {
      "cell_type": "code",
      "source": [
        "from sklearn.feature_extraction.text import CountVectorizer\n",
        "vector = CountVectorizer()"
      ],
      "metadata": {
        "id": "PMnRx68kWTle"
      },
      "execution_count": null,
      "outputs": []
    },
    {
      "cell_type": "code",
      "source": [
        "transformed_df = vector.fit_transform(word_tokens)"
      ],
      "metadata": {
        "id": "1cSiaG0EWzaw"
      },
      "execution_count": null,
      "outputs": []
    },
    {
      "cell_type": "code",
      "source": [
        "for i, j in zip(vector.get_feature_names(), np.ravel(transformed_df).sum()):\n",
        "  print(i, ' ', j)"
      ],
      "metadata": {
        "colab": {
          "base_uri": "https://localhost:8080/"
        },
        "id": "sA2lRWXfXCLY",
        "outputId": "f461d16d-e355-42a2-9459-39321c69af73"
      },
      "execution_count": null,
      "outputs": [
        {
          "output_type": "stream",
          "name": "stdout",
          "text": [
            "addy     (0, 40)\t1\n",
            "after     (0, 1)\t1\n",
            "ambitions   \n",
            "and     (0, 31)\t1\n",
            "baratheon     (0, 34)\t1\n",
            "be     (0, 8)\t1\n",
            "blind   \n",
            "bride     (0, 35)\t1\n",
            "by     (0, 7)\t1\n",
            "control     (0, 38)\t1\n",
            "desired     (0, 5)\t1\n",
            "drop     (0, 3)\t1\n",
            "every     (0, 36)\t1\n",
            "families     (0, 6)\t1\n",
            "fight     (0, 2)\t1\n",
            "for     (0, 28)\t1\n",
            "house   \n",
            "in     (0, 22)\t1\n",
            "inch     (0, 20)\t1\n",
            "iron   \n",
            "king     (0, 32)\t1\n",
            "land     (0, 28)\t1\n",
            "mad     (0, 36)\t1\n",
            "mark     (0, 16)\t1\n",
            "much     (0, 4)\t1\n",
            "mythical   \n",
            "nine     (0, 23)\t1\n",
            "noble     (0, 0)\t1\n",
            "of   \n",
            "on     (0, 33)\t1\n",
            "power     (0, 29)\t1\n",
            "rebellion     (0, 36)\t1\n",
            "robert     (0, 24)\t1\n",
            "sits     (0, 10)\t1\n",
            "spurred     (0, 19)\t1\n",
            "stolen     (0, 37)\t1\n",
            "the   \n",
            "throne     (0, 17)\t1\n",
            "to     (0, 36)\t1\n",
            "westeros     (0, 25)\t1\n",
            "years     (0, 21)\t1\n"
          ]
        },
        {
          "output_type": "stream",
          "name": "stderr",
          "text": [
            "/usr/local/lib/python3.7/dist-packages/sklearn/utils/deprecation.py:87: FutureWarning: Function get_feature_names is deprecated; get_feature_names is deprecated in 1.0 and will be removed in 1.2. Please use get_feature_names_out instead.\n",
            "  warnings.warn(msg, category=FutureWarning)\n"
          ]
        }
      ]
    },
    {
      "cell_type": "markdown",
      "source": [
        "### Inverse Document Frequency"
      ],
      "metadata": {
        "id": "0YoJcNxTYOtc"
      }
    },
    {
      "cell_type": "code",
      "source": [
        "from sklearn.feature_extraction.text import TfidfVectorizer\n",
        "tfidf = TfidfVectorizer()"
      ],
      "metadata": {
        "id": "0lTeBYkGX3qx"
      },
      "execution_count": null,
      "outputs": []
    },
    {
      "cell_type": "code",
      "source": [
        "result = tfidf.fit_transform(word_tokens)\n",
        "for i, j in zip(tfidf.get_feature_names_out(), tfidf.idf_):\n",
        "  print(i, ' ', j)"
      ],
      "metadata": {
        "colab": {
          "base_uri": "https://localhost:8080/"
        },
        "id": "-ft3EbUlYlWB",
        "outputId": "560a5eb7-3cf0-4c64-ec6c-7e0f04e49c91"
      },
      "execution_count": null,
      "outputs": [
        {
          "output_type": "stream",
          "name": "stdout",
          "text": [
            "addy   4.401197381662156\n",
            "after   4.401197381662156\n",
            "ambitions   4.401197381662156\n",
            "and   3.995732273553991\n",
            "baratheon   4.401197381662156\n",
            "be   4.401197381662156\n",
            "blind   4.401197381662156\n",
            "bride   4.401197381662156\n",
            "by   4.401197381662156\n",
            "control   4.401197381662156\n",
            "desired   4.401197381662156\n",
            "drop   4.401197381662156\n",
            "every   3.995732273553991\n",
            "families   4.401197381662156\n",
            "fight   4.401197381662156\n",
            "for   4.401197381662156\n",
            "house   4.401197381662156\n",
            "in   4.401197381662156\n",
            "inch   4.401197381662156\n",
            "iron   4.401197381662156\n",
            "king   4.401197381662156\n",
            "land   4.401197381662156\n",
            "mad   4.401197381662156\n",
            "mark   4.401197381662156\n",
            "much   4.401197381662156\n",
            "mythical   4.401197381662156\n",
            "nine   4.401197381662156\n",
            "noble   4.401197381662156\n",
            "of   3.302585092994046\n",
            "on   4.401197381662156\n",
            "power   4.401197381662156\n",
            "rebellion   4.401197381662156\n",
            "robert   4.401197381662156\n",
            "sits   4.401197381662156\n",
            "spurred   4.401197381662156\n",
            "stolen   4.401197381662156\n",
            "the   3.4849066497880004\n",
            "throne   4.401197381662156\n",
            "to   4.401197381662156\n",
            "westeros   4.401197381662156\n",
            "years   4.401197381662156\n"
          ]
        }
      ]
    },
    {
      "cell_type": "code",
      "source": [
        ""
      ],
      "metadata": {
        "id": "zRPJeuJOY7Bz"
      },
      "execution_count": null,
      "outputs": []
    }
  ]
}